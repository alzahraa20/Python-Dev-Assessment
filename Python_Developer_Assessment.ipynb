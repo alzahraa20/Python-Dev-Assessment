{
  "nbformat": 4,
  "nbformat_minor": 0,
  "metadata": {
    "colab": {
      "provenance": [],
      "authorship_tag": "ABX9TyOigi73I8zwS++LtsdJU8r7",
      "include_colab_link": true
    },
    "kernelspec": {
      "name": "python3",
      "display_name": "Python 3"
    },
    "language_info": {
      "name": "python"
    }
  },
  "cells": [
    {
      "cell_type": "markdown",
      "metadata": {
        "id": "view-in-github",
        "colab_type": "text"
      },
      "source": [
        "<a href=\"https://colab.research.google.com/github/alzahraa20/Python-Dev-Assessment/blob/main/Python_Developer_Assessment.ipynb\" target=\"_parent\"><img src=\"https://colab.research.google.com/assets/colab-badge.svg\" alt=\"Open In Colab\"/></a>"
      ]
    },
    {
      "cell_type": "markdown",
      "source": [
        "## Convert a Number to Hexadecimal:"
      ],
      "metadata": {
        "id": "88uhE45Lvjal"
      }
    },
    {
      "cell_type": "code",
      "source": [
        "def toHex(num):\n",
        "    if num == 0:\n",
        "        return \"0\"\n",
        "\n",
        "    if num < 0:\n",
        "        num = 2 ** 32 + num\n",
        "\n",
        "    hex_chars = \"0123456789abcdef\"\n",
        "    converted = \"\"\n",
        "\n",
        "    while num > 0:\n",
        "        i = num % 16\n",
        "        converted = hex_chars[i] + converted\n",
        "        num //= 16\n",
        "\n",
        "    return converted"
      ],
      "metadata": {
        "id": "o0ZKbeyn90FL"
      },
      "execution_count": 4,
      "outputs": []
    },
    {
      "cell_type": "markdown",
      "source": [
        "## Best Time to Buy and Sell Stock:"
      ],
      "metadata": {
        "id": "EQSKfTW6vts9"
      }
    },
    {
      "cell_type": "code",
      "source": [
        "def maxProfit(prices):\n",
        "\n",
        "    if not prices:\n",
        "        return 0\n",
        "\n",
        "    min_price = prices[0]\n",
        "    max_profit = 0\n",
        "\n",
        "    for p in prices:\n",
        "        if p < min_price:\n",
        "            min_price = p\n",
        "        else:\n",
        "            max_profit = max(max_profit, p - min_price)\n",
        "\n",
        "    return max_profit"
      ],
      "metadata": {
        "id": "CmR3Lbuku8Qs"
      },
      "execution_count": 3,
      "outputs": []
    },
    {
      "cell_type": "markdown",
      "source": [
        "## Generate Parentheses:"
      ],
      "metadata": {
        "id": "dISXDDhmv5-f"
      }
    },
    {
      "cell_type": "code",
      "source": [
        "def generateParenthesis(n):\n",
        "        def backtrack(combination, open_count, close_count):\n",
        "            if len(combination) == 2 * n:\n",
        "                result.append(combination)\n",
        "                return\n",
        "\n",
        "            if open_count < n:\n",
        "                backtrack(combination + '(', open_count + 1, close_count)\n",
        "\n",
        "            if close_count < open_count:\n",
        "                backtrack(combination + ')', open_count, close_count + 1)\n",
        "\n",
        "        result = []\n",
        "        backtrack('', 0, 0)\n",
        "        return result"
      ],
      "metadata": {
        "id": "iJqg-y16vGyr"
      },
      "execution_count": 2,
      "outputs": []
    }
  ]
}